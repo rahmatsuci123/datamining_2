{
  "cells": [
    {
      "cell_type": "markdown",
      "source": [
        "Nama : Rahmat Suci Setyanto\n",
        "NIM : A11.2022.14710"
      ],
      "metadata": {
        "id": "wvzcSHR1mtmK"
      }
    },
    {
      "cell_type": "markdown",
      "source": [
        "pandas dan numpy: Untuk manipulasi data dasar.\n",
        "train_test_split: Memisahkan dataset menjadi training dan testing.\n",
        "StandardScaler dan MinMaxScaler: Untuk scaling dan normalisasi fitur.\n",
        "PCA: Untuk reduksi dimensi.\n",
        "SimpleImputer dan KNNImputer: Untuk menangani missing values."
      ],
      "metadata": {
        "id": "AT3lvo7Qm08J"
      }
    },
    {
      "cell_type": "code",
      "source": [
        "# Import library yang diperlukan\n",
        "import pandas as pd\n",
        "import numpy as np\n",
        "from sklearn.model_selection import train_test_split\n",
        "from sklearn.preprocessing import StandardScaler, MinMaxScaler\n",
        "from sklearn.decomposition import PCA\n",
        "from sklearn.impute import SimpleImputer, KNNImputer"
      ],
      "metadata": {
        "id": "w1eUzOrxkKaz"
      },
      "execution_count": null,
      "outputs": []
    },
    {
      "cell_type": "markdown",
      "source": [
        "Kode df = pd.read_csv('/path/to/dataset.csv') digunakan untuk membaca data dari file CSV (Comma Separated Values) dan memuatnya ke dalam DataFrame menggunakan library pandas."
      ],
      "metadata": {
        "id": "dznlvF6znTqj"
      }
    },
    {
      "cell_type": "code",
      "source": [
        "# 1. Memuat dataset\n",
        "# Gantilah path sesuai dataset Anda\n",
        "df = pd.read_csv('heart.csv')"
      ],
      "metadata": {
        "id": "sTMoQWpFkiXO"
      },
      "execution_count": null,
      "outputs": []
    },
    {
      "cell_type": "markdown",
      "source": [
        "SimpleImputer(strategy='mean'): Membuat objek imputer untuk mengisi missing values dengan nilai rata-rata.\n",
        "select_dtypes(include=[np.number]): Memilih kolom dengan tipe data numerik dari DataFrame.\n",
        "fit_transform(): Menghitung rata-rata setiap kolom dan mengisi missing values dengan rata-rata tersebut.\n",
        "Ini adalah cara umum untuk menangani missing values pada data numerik dalam proses preprocessing data machine learning."
      ],
      "metadata": {
        "id": "f5uzxDEunpS6"
      }
    },
    {
      "cell_type": "code",
      "source": [
        "# Mengisi missing values dengan mean untuk kolom numerik\n",
        "imputer_mean = SimpleImputer(strategy='mean')\n",
        "df_numeric = df.select_dtypes(include=[np.number])\n",
        "df[df_numeric.columns] = imputer_mean.fit_transform(df_numeric)\n"
      ],
      "metadata": {
        "id": "7sIAUmnMktLt"
      },
      "execution_count": null,
      "outputs": []
    },
    {
      "cell_type": "markdown",
      "source": [
        "Kode ini menampilkan nama semua kolom dalam DataFrame df untuk membantu memeriksa struktur tabel atau menentukan kolom mana yang akan diproses."
      ],
      "metadata": {
        "id": "-I9kIJ10oXj8"
      }
    },
    {
      "cell_type": "code",
      "source": [
        "print(df.columns)"
      ],
      "metadata": {
        "id": "ZHZUIYZJlWfX",
        "outputId": "8eb34f10-d1b4-41aa-f319-6537d2fa7e53",
        "colab": {
          "base_uri": "https://localhost:8080/"
        }
      },
      "execution_count": null,
      "outputs": [
        {
          "output_type": "stream",
          "name": "stdout",
          "text": [
            "Index(['age', 'sex', 'cp', 'trestbps', 'chol', 'fbs', 'restecg', 'thalach',\n",
            "       'exang', 'oldpeak', 'slope', 'ca', 'thal', 'target'],\n",
            "      dtype='object')\n"
          ]
        }
      ]
    },
    {
      "cell_type": "markdown",
      "source": [
        "Kode numeric_columns = ['age', 'trestbps', 'chol', 'thalach', 'oldpeak', 'ca'] mendefinisikan sebuah list berisi nama-nama kolom yang mengandung nilai numerik dalam DataFrame."
      ],
      "metadata": {
        "id": "OZIPvUvxoq5K"
      }
    },
    {
      "cell_type": "code",
      "source": [
        "numeric_columns = ['age', 'trestbps', 'chol', 'thalach', 'oldpeak', 'ca']"
      ],
      "metadata": {
        "id": "uHfKoAVTl9HV"
      },
      "execution_count": null,
      "outputs": []
    },
    {
      "cell_type": "markdown",
      "source": [
        "df.dtypes: Mengembalikan tipe data dari setiap kolom di DataFrame df. Ini bisa berupa tipe data seperti:\n",
        "int64: Kolom yang berisi bilangan bulat.\n",
        "float64: Kolom yang berisi bilangan desimal.\n",
        "object: Kolom yang berisi string atau tipe data lainnya."
      ],
      "metadata": {
        "id": "xpc4M6LqpLJl"
      }
    },
    {
      "cell_type": "code",
      "source": [
        "print(df.dtypes)"
      ],
      "metadata": {
        "id": "2MuIpolyk4Lm",
        "outputId": "dfe4185a-cfd3-4c16-e5a1-16e52703f49f",
        "colab": {
          "base_uri": "https://localhost:8080/"
        }
      },
      "execution_count": null,
      "outputs": [
        {
          "output_type": "stream",
          "name": "stdout",
          "text": [
            "age         float64\n",
            "sex         float64\n",
            "cp          float64\n",
            "trestbps    float64\n",
            "chol        float64\n",
            "fbs         float64\n",
            "restecg     float64\n",
            "thalach     float64\n",
            "exang       float64\n",
            "oldpeak     float64\n",
            "slope       float64\n",
            "ca          float64\n",
            "thal        float64\n",
            "target      float64\n",
            "dtype: object\n"
          ]
        }
      ]
    },
    {
      "cell_type": "markdown",
      "source": [
        "Kode ini berguna untuk memastikan bahwa kolom yang seharusnya berisi data numerik benar-benar memiliki tipe data yang benar. Ini membantu mencegah kesalahan dalam analisis atau pemodelan data selanjutnya dengan mengonversi data non-numerik menjadi NaN sehingga dapat ditangani dalam proses preprocessing selanjutnya."
      ],
      "metadata": {
        "id": "Sx5dOMwppod1"
      }
    },
    {
      "cell_type": "code",
      "source": [
        "df[numeric_columns] = df[numeric_columns].apply(pd.to_numeric, errors='coerce')"
      ],
      "metadata": {
        "id": "QwN4FWQJmC1e"
      },
      "execution_count": null,
      "outputs": []
    },
    {
      "cell_type": "markdown",
      "source": [
        "Kode ini digunakan untuk memastikan bahwa kolom-kolom yang mengandung data kategorikal diinterpretasikan dengan benar sebagai tipe data object. Ini penting untuk analisis dan pemodelan data, karena algoritma pemodelan yang berbeda menangani data kategorikal dan numerik dengan cara yang berbeda."
      ],
      "metadata": {
        "id": "xS7fn8a5qFp3"
      }
    },
    {
      "cell_type": "code",
      "source": [
        "categorical_columns = ['sex', 'cp', 'fbs', 'restecg', 'exang', 'slope', 'thal']\n",
        "df[categorical_columns] = df[categorical_columns].astype('object')"
      ],
      "metadata": {
        "id": "rD9Z8WpgmJCm"
      },
      "execution_count": null,
      "outputs": []
    },
    {
      "cell_type": "markdown",
      "source": [
        "df.isnull():\n",
        "\n",
        "Fungsi isnull() mengembalikan DataFrame dengan nilai boolean, di mana setiap elemen adalah True jika nilai tersebut NaN (Not a Number) atau missing, dan False jika nilai tersebut tidak hilang.\n",
        ".sum():\n",
        "\n",
        "Fungsi sum() digunakan untuk menjumlahkan nilai True di setiap kolom. Dalam konteks boolean, True dihitung sebagai 1 dan False dihitung sebagai 0.\n",
        "Dengan demikian, sum() akan memberikan total jumlah nilai missing untuk setiap kolom."
      ],
      "metadata": {
        "id": "gRxzNaSBqIqs"
      }
    },
    {
      "cell_type": "code",
      "source": [
        "print(df.isnull().sum())"
      ],
      "metadata": {
        "id": "hJdaK5InmM8k",
        "outputId": "890f6e0c-52c8-4aab-af50-90304387965b",
        "colab": {
          "base_uri": "https://localhost:8080/"
        }
      },
      "execution_count": null,
      "outputs": [
        {
          "output_type": "stream",
          "name": "stdout",
          "text": [
            "age         0\n",
            "sex         0\n",
            "cp          0\n",
            "trestbps    0\n",
            "chol        0\n",
            "fbs         0\n",
            "restecg     0\n",
            "thalach     0\n",
            "exang       0\n",
            "oldpeak     0\n",
            "slope       0\n",
            "ca          0\n",
            "thal        0\n",
            "target      0\n",
            "dtype: int64\n"
          ]
        }
      ]
    },
    {
      "cell_type": "markdown",
      "source": [
        "imputer_mean = SimpleImputer(strategy='mean'):\n",
        "\n",
        "SimpleImputer adalah sebuah kelas dari library sklearn.impute yang digunakan untuk mengisi missing values (nilai hilang) dalam dataset.\n",
        "strategy='mean': Menetapkan strategi imputasi untuk mengisi nilai yang hilang dengan nilai rata-rata dari masing-masing kolom numerik. Ini berarti, jika ada nilai yang hilang dalam kolom, nilai tersebut akan diisi dengan rata-rata dari kolom tersebut.\n",
        "df[numeric_columns]:\n",
        "\n",
        "Ini adalah pemilihan kolom-kolom yang terdapat dalam list numeric_columns dari DataFrame df. Kolom-kolom ini diharapkan mengandung data numerik.\n",
        "imputer_mean.fit_transform(df[numeric_columns]):\n",
        "\n",
        "fit_transform() adalah metode yang melakukan dua langkah:\n",
        "fit: Menghitung nilai rata-rata dari setiap kolom yang memiliki missing values.\n",
        "transform: Mengganti nilai yang hilang dengan nilai rata-rata yang telah dihitung.\n",
        "Hasil dari metode ini adalah DataFrame baru yang memiliki nilai-nilai missing di kolom numerik yang telah diisi dengan rata-rata."
      ],
      "metadata": {
        "id": "KeZFa4Y3qygo"
      }
    },
    {
      "cell_type": "code",
      "source": [
        "imputer_mean = SimpleImputer(strategy='mean')\n",
        "df[numeric_columns] = imputer_mean.fit_transform(df[numeric_columns])"
      ],
      "metadata": {
        "id": "uowi0QWkmPgc"
      },
      "execution_count": null,
      "outputs": []
    },
    {
      "cell_type": "markdown",
      "source": [
        "imputer_mode = SimpleImputer(strategy='most_frequent'):\n",
        "\n",
        "SimpleImputer adalah kelas dari library sklearn.impute yang digunakan untuk mengisi nilai hilang (missing values) dalam dataset.\n",
        "strategy='most_frequent': Ini menetapkan strategi imputasi untuk mengisi nilai yang hilang dengan nilai yang paling sering muncul (modus) di setiap kolom. Dengan kata lain, jika ada nilai yang hilang dalam kolom kategorikal, nilai tersebut akan diisi dengan nilai yang paling umum di kolom tersebut.\n",
        "df[categorical_columns]:\n",
        "\n",
        "Ini memilih kolom-kolom yang ditentukan dalam list categorical_columns dari DataFrame df. Kolom-kolom ini berisi data kategorikal.\n",
        "imputer_mode.fit_transform(df[categorical_columns]):\n",
        "\n",
        "fit_transform() adalah metode yang melakukan dua langkah:\n",
        "fit: Menghitung nilai yang paling sering muncul (modus) dalam setiap kolom yang memiliki nilai hilang.\n",
        "transform: Mengganti nilai yang hilang dengan modus yang telah dihitung.\n",
        "Hasil dari metode ini adalah DataFrame baru yang memiliki nilai-nilai hilang di kolom kategorikal yang telah diisi dengan modus."
      ],
      "metadata": {
        "id": "hr5ap7B8q4nn"
      }
    },
    {
      "cell_type": "code",
      "source": [
        "imputer_mode = SimpleImputer(strategy='most_frequent')\n",
        "df[categorical_columns] = imputer_mode.fit_transform(df[categorical_columns])\n"
      ],
      "metadata": {
        "id": "hcOzRbd5mUsd"
      },
      "execution_count": null,
      "outputs": []
    },
    {
      "cell_type": "markdown",
      "source": [
        "scaler = MinMaxScaler():\n",
        "\n",
        "MinMaxScaler adalah kelas dari library sklearn.preprocessing yang digunakan untuk melakukan normalisasi pada data numerik.\n",
        "Normalisasi dengan MinMaxScaler mengubah semua nilai dalam fitur (kolom) ke dalam rentang tertentu, biasanya antara 0 dan 1. Ini berguna untuk menghindari pengaruh skala yang berbeda dari fitur yang berbeda ketika melakukan analisis atau pelatihan model.\n",
        "df[numeric_columns]:\n",
        "\n",
        "Ini memilih kolom-kolom yang ditentukan dalam list numeric_columns dari DataFrame df. Kolom-kolom ini berisi data numerik yang ingin dinormalisasi.\n",
        "scaler.fit_transform(df[numeric_columns]):\n",
        "\n",
        "fit_transform() adalah metode yang melakukan dua langkah:\n",
        "fit: Menghitung parameter yang diperlukan untuk normalisasi (minimum dan maksimum untuk setiap kolom).\n",
        "transform: Menerapkan transformasi normalisasi berdasarkan parameter yang telah dihitung.\n",
        "Hasil dari metode ini adalah DataFrame baru yang memiliki nilai-nilai di kolom numerik yang telah dinormalisasi."
      ],
      "metadata": {
        "id": "YTll545FrA4Z"
      }
    },
    {
      "cell_type": "code",
      "source": [
        "scaler = MinMaxScaler()  # atau StandardScaler()\n",
        "df[numeric_columns] = scaler.fit_transform(df[numeric_columns])\n"
      ],
      "metadata": {
        "id": "jtejC1XHmXbB"
      },
      "execution_count": null,
      "outputs": []
    },
    {
      "cell_type": "markdown",
      "source": [
        "X = df.drop('target', axis=1):\n",
        "\n",
        "df.drop(): Fungsi ini digunakan untuk menghapus (drop) kolom tertentu dari DataFrame df.\n",
        "'target': Ini adalah nama kolom yang ingin dihapus. Dalam konteks ini, kolom target adalah kolom yang berisi label atau kategori yang ingin diprediksi.\n",
        "axis=1: Parameter ini menunjukkan bahwa yang akan dihapus adalah kolom (bukan baris, yang diindikasikan dengan axis=0).\n",
        "Hasil dari operasi ini adalah DataFrame baru yang berisi semua kolom dari df, kecuali kolom target. Variabel ini biasanya dinamakan X, yang merupakan representasi dari fitur-fitur (independen) dalam model.\n",
        "y = df['target']:\n",
        "\n",
        "Ini memilih kolom target dari DataFrame df dan menyimpannya ke dalam variabel y. Variabel ini biasanya digunakan sebagai label target dalam model.\n",
        "Variabel y akan berisi semua nilai dari kolom target, yang akan digunakan untuk pelatihan model."
      ],
      "metadata": {
        "id": "Tnmkv_hhrLkx"
      }
    },
    {
      "cell_type": "code",
      "source": [
        "X = df.drop('target', axis=1)  # 'target' adalah kolom target\n",
        "y = df['target']"
      ],
      "metadata": {
        "id": "NZ1s-lH5mbvg"
      },
      "execution_count": null,
      "outputs": []
    },
    {
      "cell_type": "markdown",
      "source": [
        "train_test_split():\n",
        "\n",
        "Fungsi ini dari modul sklearn.model_selection digunakan untuk membagi dataset menjadi dua bagian: satu untuk pelatihan (training) dan satu untuk pengujian (testing).\n",
        "Pembagian ini penting untuk mengevaluasi performa model pada data yang tidak terlihat (unseen data).\n",
        "X dan y:\n",
        "\n",
        "X adalah DataFrame yang berisi fitur-fitur (independen) yang akan digunakan untuk melatih model.\n",
        "y adalah Series atau DataFrame yang berisi label target (dependen) yang ingin diprediksi.\n",
        "test_size=0.2:\n",
        "\n",
        "Parameter ini menentukan proporsi data yang akan digunakan untuk set pengujian. Dalam hal ini, 0.2 berarti 20% dari dataset akan digunakan sebagai data pengujian, sedangkan 80% sisanya akan digunakan untuk pelatihan.\n",
        "random_state=42:\n",
        "\n",
        "Parameter ini digunakan untuk mengatur seed dari random number generator. Dengan mengatur random_state, Anda memastikan bahwa pembagian data akan konsisten setiap kali kode dijalankan. Jika Anda menggunakan seed yang sama, hasil pembagian data (X_train, X_test, y_train, y_test) akan selalu sama."
      ],
      "metadata": {
        "id": "bl-OUkirrnyV"
      }
    },
    {
      "cell_type": "code",
      "source": [
        "X_train, X_test, y_train, y_test = train_test_split(X, y, test_size=0.2, random_state=42)"
      ],
      "metadata": {
        "id": "L1MoE6SwmgsS"
      },
      "execution_count": null,
      "outputs": []
    },
    {
      "cell_type": "markdown",
      "source": [
        "X_train.shape:\n",
        "\n",
        "shape adalah atribut dari objek DataFrame atau array NumPy yang mengembalikan dimensi dari data tersebut.\n",
        "Untuk DataFrame, shape mengembalikan tuple dengan dua nilai: jumlah baris dan jumlah kolom. Dalam konteks ini, X_train.shape akan memberikan informasi tentang jumlah contoh (data points) dan jumlah fitur (features) yang ada di data pelatihan.\n",
        "print():\n",
        "\n",
        "Fungsi ini digunakan untuk mencetak output ke konsol. Di sini, kita mencetak string yang menunjukkan bentuk (shape) dari data pelatihan dan pengujian."
      ],
      "metadata": {
        "id": "6KWRiBmarx48"
      }
    },
    {
      "cell_type": "code",
      "source": [
        "print(\"Shape of training data:\", X_train.shape)\n",
        "print(\"Shape of test data:\", X_test.shape)"
      ],
      "metadata": {
        "id": "wHh1vy8vmj1E",
        "outputId": "2eda0b82-aa5a-4bb8-c287-2d7fe53eac48",
        "colab": {
          "base_uri": "https://localhost:8080/"
        }
      },
      "execution_count": null,
      "outputs": [
        {
          "output_type": "stream",
          "name": "stdout",
          "text": [
            "Shape of training data: (242, 13)\n",
            "Shape of test data: (61, 13)\n"
          ]
        }
      ]
    }
  ],
  "metadata": {
    "colab": {
      "provenance": []
    },
    "kernelspec": {
      "display_name": "Python 3",
      "name": "python3"
    }
  },
  "nbformat": 4,
  "nbformat_minor": 0
}